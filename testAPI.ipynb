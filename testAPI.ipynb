from fastapi import FastAPI
import pandas as pd
# from flask import request, jsonify
import json

dataf = pd.read_csv('https://raw.githubusercontent.com/nguyenvudev20/mse22.python4engineer/main/train.csv')

df2 = dataf.to_json(path_or_buf=None, orient='records')

dataf['Order Date'] = pd.to_datetime(dataf['Order Date'],format='%d/%m/%Y')
dataf['Ship Date'] = pd.to_datetime(dataf['Ship Date'],format='%d/%m/%Y')

dataf['Year Month'] = dataf['Order Date'].apply(lambda x: x.strftime('%Y-%m'))
dfm = pd.DataFrame(dataf.groupby('Year Month').sum()['Sales'].reset_index())
df3 = dfm.to_json(orient='records')

app = FastAPI()

@app.get("/DoanhThuTheoThang")
def hello():
  return df3